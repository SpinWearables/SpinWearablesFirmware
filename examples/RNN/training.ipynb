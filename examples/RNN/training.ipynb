{
 "cells": [
  {
   "cell_type": "code",
   "execution_count": null,
   "metadata": {},
   "outputs": [],
   "source": [
    "import tensorflow as tf\n",
    "import numpy as np\n",
    "matvec = tf.linalg.matvec\n",
    "import matplotlib.pyplot as plt\n",
    "import sklearn.model_selection\n",
    "import glob"
   ]
  },
  {
   "cell_type": "code",
   "execution_count": 26,
   "metadata": {},
   "outputs": [
    {
     "name": "stdout",
     "output_type": "stream",
     "text": [
      "Class 0 with 12444 samples.\n",
      "Class 1 with 7188 samples.\n",
      "Class 2 with 6381 samples.\n"
     ]
    }
   ],
   "source": [
    "training_datasets_names = [\n",
    "    'log_left_right',\n",
    "    'log_forward_backward',\n",
    "    'log_resting'\n",
    "]\n",
    "\n",
    "features = 6 # 3 directions for acceleration and 3 directions for rotation\n",
    "duration = 50 # 1 second given the 20ms period\n",
    "burnin = duration // 2\n",
    "\n",
    "training_datasets_processed = []\n",
    "training_datasets_y = []\n",
    "for class_index, name in enumerate(training_datasets_names):\n",
    "    array = np.concatenate([np.loadtxt(g)[:,:features] for g in glob.glob(name+'*')])\n",
    "    print(f\"Class {class_index} with {len(array)} samples.\")\n",
    "    # extract only the pertinent features from the log\n",
    "    round_length = (len(array)//duration)*duration\n",
    "    array = array[:round_length,:]\n",
    "    array = array.reshape(-1,duration,features)\n",
    "    training_datasets_processed.append(array)\n",
    "    training_datasets_y.append(np.ones(len(array),dtype=int)*class_index)\n",
    "x = np.concatenate(training_datasets_processed)\n",
    "y = np.concatenate(training_datasets_y)"
   ]
  },
  {
   "cell_type": "code",
   "execution_count": null,
   "metadata": {},
   "outputs": [],
   "source": [
    "x, xtest, y, ytest = sklearn.model_selection.train_test_split(x,y, test_size=0.1)"
   ]
  },
  {
   "cell_type": "code",
   "execution_count": null,
   "metadata": {},
   "outputs": [],
   "source": [
    "x = x.transpose(1,2,0)\n",
    "xtest = xtest.transpose(1,2,0)"
   ]
  },
  {
   "cell_type": "code",
   "execution_count": null,
   "metadata": {},
   "outputs": [],
   "source": [
    "x.shape, x.dtype # axes in order: time, features, samples"
   ]
  },
  {
   "cell_type": "code",
   "execution_count": null,
   "metadata": {},
   "outputs": [],
   "source": [
    "y.shape, y.dtype # axes in order: samples"
   ]
  },
  {
   "cell_type": "code",
   "execution_count": null,
   "metadata": {},
   "outputs": [],
   "source": [
    "batchsize = len(y)"
   ]
  },
  {
   "cell_type": "code",
   "execution_count": null,
   "metadata": {},
   "outputs": [],
   "source": [
    "x = tf.constant(x, dtype=tf.float32)\n",
    "xtest = tf.constant(xtest, dtype=tf.float32)\n",
    "y = tf.constant(y)\n",
    "y_onehot = tf.one_hot(y,depth=len(training_datasets_names))\n",
    "ytest = tf.constant(ytest)\n",
    "ytest_onehot = tf.one_hot(ytest,depth=len(training_datasets_names))"
   ]
  },
  {
   "cell_type": "code",
   "execution_count": null,
   "metadata": {},
   "outputs": [],
   "source": [
    "neurons_in = features\n",
    "\n",
    "neurons_1s = 6\n",
    "neurons_1o = 6\n",
    "neurons_2s = 6\n",
    "neurons_2o = 6\n",
    "\n",
    "neurons_out = 3\n",
    "\n",
    "W1s = tf.Variable(tf.random.normal((neurons_1s, neurons_in)))\n",
    "U1  = tf.Variable(tf.random.normal((neurons_1s, neurons_1s)))\n",
    "W1o = tf.Variable(tf.random.normal((neurons_1o, neurons_1s)))\n",
    "B1s = tf.Variable(tf.random.normal((neurons_1s,1)))\n",
    "B1o = tf.Variable(tf.random.normal((neurons_1o,1)))\n",
    "\n",
    "W2s = tf.Variable(tf.random.normal((neurons_2s, neurons_1o)))\n",
    "U2  = tf.Variable(tf.random.normal((neurons_2s, neurons_2s)))\n",
    "W2o = tf.Variable(tf.random.normal((neurons_2o, neurons_2s)))\n",
    "B2s = tf.Variable(tf.random.normal((neurons_2s,1)))\n",
    "B2o = tf.Variable(tf.random.normal((neurons_2o,1)))\n",
    "\n",
    "Wout = tf.Variable(tf.random.normal((neurons_out,neurons_1o)))\n",
    "Bout = tf.Variable(tf.random.normal((neurons_out,)))\n",
    "\n",
    "names = [\n",
    "'W1s[neurons_1s*neurons_in]',\n",
    "'U1 [neurons_1s*neurons_1s]',\n",
    "'W1o[neurons_1o*neurons_1s]',\n",
    "'B1s[neurons_1s]',\n",
    "'B1o[neurons_1o]',\n",
    "'W2s[neurons_2s*neurons_1o]',\n",
    "'U2 [neurons_2s*neurons_2s]',\n",
    "'W2o[neurons_2o*neurons_2s]',\n",
    "'B2s[neurons_2s]',\n",
    "'B2o[neurons_2o]',\n",
    "'Wout[neurons_out*neurons_1o]',\n",
    "'Bout[neurons_out]'\n",
    "]\n",
    "\n",
    "variables = [W1s, U1, W1o, B1s, B1o,\n",
    "             W2s, U2, W2o, B2s, B2o,\n",
    "             Wout, Bout]"
   ]
  },
  {
   "cell_type": "code",
   "execution_count": null,
   "metadata": {},
   "outputs": [],
   "source": [
    "@tf.function\n",
    "def rnn_step(state, v_in, Ws, U, Bs, Wo, Bo):\n",
    "    new_state = tf.nn.relu(Ws@state + U@v_in + Bs)\n",
    "    v_out = tf.nn.relu(Wo@new_state+Bo)\n",
    "    return new_state, v_out"
   ]
  },
  {
   "cell_type": "code",
   "execution_count": null,
   "metadata": {},
   "outputs": [],
   "source": [
    "@tf.function\n",
    "def model(x,\n",
    "          W1s, U1, W1o, B1s, B1o,\n",
    "          W2s, U2, W2o, B2s, B2o,\n",
    "          Wout, Bout, initializer=tf.random.normal):\n",
    "    _, v1_outs = \\\n",
    "    tf.scan(lambda state_vout, v_in: rnn_step(state_vout[0], v_in, W1s, U1, B1s, W1o, B1o),\n",
    "            x,\n",
    "            initializer = (initializer((neurons_1s,x.shape[2])), x[0,...])\n",
    "           )\n",
    "    _, v2_outs = \\\n",
    "    tf.scan(lambda state_vout, v_in: rnn_step(state_vout[0], v_in, W2s, U2, B2s, W2o, B2o),\n",
    "            v1_outs,\n",
    "            initializer = (initializer((neurons_2s,x.shape[2])), x[0,...])\n",
    "           )\n",
    "\n",
    "    y_model = tf.einsum('ij,TjS->TSi', Wout, v2_outs) + Bout\n",
    "    y_model = tf.nn.softmax(y_model, axis=2)\n",
    "    return y_model"
   ]
  },
  {
   "cell_type": "code",
   "execution_count": null,
   "metadata": {},
   "outputs": [],
   "source": [
    "hist = []"
   ]
  },
  {
   "cell_type": "code",
   "execution_count": null,
   "metadata": {},
   "outputs": [],
   "source": [
    "# opt = tf.keras.optimizers.Nadam(0.002) # for 200 steps with a zero initializer\n",
    "#opt = tf.keras.optimizers.Nadam(0.0002) # for a bunch more\n",
    "opt = tf.keras.optimizers.Nadam(0.0002) # now with random initializer"
   ]
  },
  {
   "cell_type": "code",
   "execution_count": null,
   "metadata": {},
   "outputs": [],
   "source": [
    "for i in range(400):\n",
    "    with tf.GradientTape() as tape:\n",
    "        y_model = model(x,\n",
    "                        W1s, U1, W1o, B1s, B1o,\n",
    "                        W2s, U2, W2o, B2s, B2o,\n",
    "                        Wout, Bout,\n",
    "                        #initializer=tf.zeros,\n",
    "                       )\n",
    "        y_model = y_model[burnin:,:,:]\n",
    "        err = tf.reduce_mean((y_model-y_onehot)**2)\n",
    "        reg = tf.reduce_mean([tf.reduce_mean(tf.abs(_)) for _ in variables])\n",
    "        total_loss = err+0.05*reg\n",
    "    yt_model = model(xtest,\n",
    "                     W1s, U1, W1o, B1s, B1o,\n",
    "                     W2s, U2, W2o, B2s, B2o,\n",
    "                     Wout, Bout)\n",
    "    yt_model = yt_model[burnin:,:,:]\n",
    "    yt_model_n = yt_model.numpy()\n",
    "    ytest_onehot_n = ytest_onehot.numpy()\n",
    "    accuracy = np.take_along_axis(np.expand_dims(ytest_onehot_n, axis=0),\n",
    "                                  np.expand_dims(np.argmax(yt_model_n,axis=2),\n",
    "                                                 axis=2),\n",
    "                                  axis=2)\n",
    "    accuracy = np.mean(accuracy)\n",
    "    t = tf.reduce_mean((yt_model-ytest_onehot)**2)\n",
    "    hist.append([err.numpy(),t.numpy(),1-accuracy,reg.numpy()])\n",
    "    grads = tape.gradient(total_loss, variables)\n",
    "    opt.apply_gradients(zip(grads, variables))\n",
    "    print(f'\\r {i}: {hist[-1]}     ',end='',flush=True)"
   ]
  },
  {
   "cell_type": "code",
   "execution_count": 40,
   "metadata": {},
   "outputs": [
    {
     "data": {
      "image/png": "[encoded data removed]",
      "text/plain": [
       "<Figure size 432x288 with 1 Axes>"
      ]
     },
     "metadata": {
      "needs_background": "light"
     },
     "output_type": "display_data"
    }
   ],
   "source": [
    "plt.plot(hist)\n",
    "plt.legend(['Training Loss','Testing Loss','Testing Error Rate','Regularizer'])\n",
    "plt.xlabel('Gradient Descent Iteration')\n",
    "plt.savefig('training.png',dpi=300)"
   ]
  },
  {
   "cell_type": "code",
   "execution_count": null,
   "metadata": {},
   "outputs": [],
   "source": [
    "np.set_printoptions(linewidth=1000,)"
   ]
  },
  {
   "cell_type": "code",
   "execution_count": 36,
   "metadata": {},
   "outputs": [
    {
     "name": "stdout",
     "output_type": "stream",
     "text": [
      "float W1s[neurons_1s*neurons_in] = { 0.5321287, 0.6107104, 1.3286344, -0.6015093, 0.56184286, -0.050672613, -0.28946915, -0.57202274, 0.5797093, 0.10561681, 1.7290003, -0.68493843, -0.18255526, -0.37313738, 1.2256309, -0.1742842, 0.6492496, -0.16173245, -0.9695452, -0.5891188, -0.013323135, 0.6650615, 0.42116144, -0.59877527, 0.058546405, -0.71124023, -0.4949681, 0.026260667, 0.47205865, 0.017517323, 0.44564795, -0.76846886, 0.6713811, -1.7036608, 0.06296093, 0.27191502 };\n",
      "float U1 [neurons_1s*neurons_1s] = { 0.08446167, 2.1222587, -0.262183, 0.041411262, 0.092383526, -1.0871025, 0.765727, -1.2816284, -0.79608244, 1.0392288, 0.05335982, 0.04486225, 0.046529382, -1.4757994, 0.13218978, 0.0464745, -0.06651882, -0.8113239, 2.010752, 0.27113342, -0.082562454, 0.36493123, -1.3630337, 1.5551832, -1.8181484, -0.21996354, -0.60703295, -0.20818894, 0.12968491, 1.1444167, -1.0321264, -0.71735334, -0.4447773, 0.25020576, 0.4118029, -1.9402288 };\n",
      "float W1o[neurons_1o*neurons_1s] = { 0.13802966, -1.2219762, 0.058708522, 0.1777648, 1.6724335, -1.4119003, -0.032558057, 0.44839227, 0.40060967, 0.64469165, -0.29333997, -0.025161164, -0.2800877, -0.902683, -0.007265689, 0.54415846, 0.66456676, -0.77940935, 0.37354767, 0.3158186, -0.6347513, 0.17989126, -0.22734974, -0.49951622, -0.5184792, 0.87216437, 2.159849, -0.6910299, -0.08984194, 0.032428134, 0.13159314, -0.88068604, 0.47105592, 0.12390203, -0.3439282, 0.4603399 };\n",
      "float B1s[neurons_1s] = { -1.105348, 0.00018683162, -0.02873229, -0.06346775, -0.17056179, 0.09518265 };\n",
      "float B1o[neurons_1o] = { 0.34591475, -0.14795464, 0.2325652, -0.10135709, -1.3309003, 0.44049194 };\n",
      "float W2s[neurons_2s*neurons_1o] = { -0.47867066, -2.0650294, -0.09539489, -0.36280107, 1.3170956, 0.029860241, -0.27149627, 0.58525115, -0.10355578, -0.44423324, 0.232523, -0.6986958, 0.082030736, 0.055767298, -0.04935323, -0.28878313, 0.066991135, -0.15354092, 0.094942436, -1.6132945, 0.036912344, 0.29851636, 1.2205178, -0.7134117, -1.2386477, -0.5278449, -0.19041571, 0.048836123, -0.12733762, 0.03632712, 2.8797266, 0.61762565, 0.053293455, -0.34995812, 0.3548257, 0.8126559 };\n",
      "float U2 [neurons_2s*neurons_2s] = { -0.15002497, -0.7135592, -0.685698, 0.19555788, -0.9222942, 0.60537004, 0.20041735, -0.015652642, 0.2094619, -0.061256256, 0.020260328, 1.1851788, 0.0739529, 0.016536528, 0.0017053923, -0.001012617, 0.4333541, 2.0129955e-05, -0.20776315, 0.34800503, 1.2278594, -0.2840473, 1.6044365, 0.11292993, 1.2254378, 2.0934033, -1.8157494, 0.21263774, -0.009304846, -0.13362795, 1.1646845, -0.19165255, 0.011544819, 1.0697566, 0.43793356, 0.09747889 };\n",
      "float W2o[neurons_2o*neurons_2s] = { 0.014649042, -0.06266459, 0.00044530613, -0.8122457, -0.36646405, -0.0798095, 0.3709301, 0.37230963, 3.8917642e-05, -0.0005861422, 0.2968952, 1.5582066, -1.3202109e-05, 1.799133, -1.5939819e-05, 0.10810138, 2.5070357, 0.2853145, -1.0321325, 0.0011201913, 1.5661702e-05, -0.058740117, 0.00024601142, 0.19350934, -0.00044874512, 0.7337828, 5.3875847e-06, 0.06492587, 2.9979377, -0.56943846, 0.00037777785, -0.00025590323, -0.0010820613, 4.989095e-06, 0.0007219418, -0.0005042125 };\n",
      "float B2s[neurons_2s] = { -0.028206171, 0.5156735, 6.478218e-05, 1.2108356, -0.31679368, -0.024533587 };\n",
      "float B2o[neurons_2o] = { 1.4028785, 0.0001855492, -0.1894923, 0.103634566, -0.113036916, -0.0009970091 };\n",
      "float Wout[neurons_out*neurons_1o] = { -1.5629566, 0.4279106, 0.21059136, 0.0009926992, 0.1298369, 0.00050598645, 2.0700727, 0.19776538, 0.18575023, 0.48138946, 0.9464396, -0.00084920716, 0.053360283, -0.36190554, -1.7918297, -1.6159785e-05, -0.5657281, 8.879579e-06 };\n",
      "float Bout[neurons_out] = { -1.3225704, 3.2274518e-05, 2.5265179 };\n"
     ]
    }
   ],
   "source": [
    "for n, a in zip(names,variables):\n",
    "    s = ', '.join(map(str, a.numpy().flatten()))\n",
    "    print(f'float {n} = {{ {s} }};')"
   ]
  },
  {
   "cell_type": "code",
   "execution_count": null,
   "metadata": {},
   "outputs": [],
   "source": [
    "np.savez('weights',*[a.numpy() for a in variables])"
   ]
  }
 ],
 "metadata": {
  "kernelspec": {
   "display_name": "Python 3",
   "language": "python",
   "name": "python3"
  },
  "language_info": {
   "codemirror_mode": {
    "name": "ipython",
    "version": 3
   },
   "file_extension": ".py",
   "mimetype": "text/x-python",
   "name": "python",
   "nbconvert_exporter": "python",
   "pygments_lexer": "ipython3",
   "version": "3.7.5"
  }
 },
 "nbformat": 4,
 "nbformat_minor": 2
}
